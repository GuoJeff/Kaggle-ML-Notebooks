{
 "cells": [
  {
   "cell_type": "markdown",
   "metadata": {},
   "source": [
    "# Diamond Dozen or Dime in Dozen?\n",
    "\n",
    "\n",
    "## Diamond Price Regressor \n",
    "\n",
    "This Jupyter notebook takes qualitative and quantitative features for a compiled set of diamonds to construct regressor models to predict price. \n",
    "\n",
    "## Dataset\n",
    "\n",
    "https://www.kaggle.com/shivam2503/diamonds\n",
    "\n",
    "## Motivation\n",
    "\n",
    "Is this diamond just a dime in dozen?$^{1}$ \n",
    "\n",
    "Suppose you are the owner of a jewellery store that offers a service to buy diamonds from customers for the purpose of resale. The incentive for you is to resell the diamond at a greater price than the purchase price, thus making profit. As you begin studying diamonds to gain an understanding of the product, you notice that seemingly identical diamonds to the untrained eye can actually differ in price drastically! With no easy way for you to learn the intricacies that lead to the exorbitant values of diamonds, you turn your attention to constructing a machine learning model that can help you predict the prices. You manage to obtain a dataset of diamond prices that were sold in your country along with corresponding relevant features. A sufficiently accurate prediction model will inform your strategy when buying and reselling diamonds to maximize profit margins. \n",
    "\n",
    "## Objective\n",
    "\n",
    "Use the diamonds dataset to construct a regression model to predict diamond prices.\n",
    "\n",
    "$^{1}$ https://www.theidioms.com/a-dime-adozen/#:~:text=something%20very%20common%20and%20not,abundant%2C%20cheap%20and%20very%20common"
   ]
  },
  {
   "cell_type": "markdown",
   "metadata": {},
   "source": [
    "Import standard data processing and plotting libraries."
   ]
  },
  {
   "cell_type": "code",
   "execution_count": 1,
   "metadata": {},
   "outputs": [],
   "source": [
    "import numpy as np\n",
    "import pandas as pd\n",
    "from matplotlib import pyplot as plt\n",
    "import seaborn as sb\n",
    "\n",
    "DATA_PATH = \"/Users/jeffguo/PycharmProjects/DiamondsPriceRegression/diamonds.csv\"\n",
    "diamonds_data = pd.read_csv(DATA_PATH)"
   ]
  },
  {
   "cell_type": "code",
   "execution_count": 2,
   "metadata": {
    "scrolled": true
   },
   "outputs": [
    {
     "data": {
      "text/html": [
       "<div>\n",
       "<style scoped>\n",
       "    .dataframe tbody tr th:only-of-type {\n",
       "        vertical-align: middle;\n",
       "    }\n",
       "\n",
       "    .dataframe tbody tr th {\n",
       "        vertical-align: top;\n",
       "    }\n",
       "\n",
       "    .dataframe thead th {\n",
       "        text-align: right;\n",
       "    }\n",
       "</style>\n",
       "<table border=\"1\" class=\"dataframe\">\n",
       "  <thead>\n",
       "    <tr style=\"text-align: right;\">\n",
       "      <th></th>\n",
       "      <th>Unnamed: 0</th>\n",
       "      <th>carat</th>\n",
       "      <th>cut</th>\n",
       "      <th>color</th>\n",
       "      <th>clarity</th>\n",
       "      <th>depth</th>\n",
       "      <th>table</th>\n",
       "      <th>price</th>\n",
       "      <th>x</th>\n",
       "      <th>y</th>\n",
       "      <th>z</th>\n",
       "    </tr>\n",
       "  </thead>\n",
       "  <tbody>\n",
       "    <tr>\n",
       "      <th>0</th>\n",
       "      <td>1</td>\n",
       "      <td>0.23</td>\n",
       "      <td>Ideal</td>\n",
       "      <td>E</td>\n",
       "      <td>SI2</td>\n",
       "      <td>61.5</td>\n",
       "      <td>55.0</td>\n",
       "      <td>326</td>\n",
       "      <td>3.95</td>\n",
       "      <td>3.98</td>\n",
       "      <td>2.43</td>\n",
       "    </tr>\n",
       "    <tr>\n",
       "      <th>1</th>\n",
       "      <td>2</td>\n",
       "      <td>0.21</td>\n",
       "      <td>Premium</td>\n",
       "      <td>E</td>\n",
       "      <td>SI1</td>\n",
       "      <td>59.8</td>\n",
       "      <td>61.0</td>\n",
       "      <td>326</td>\n",
       "      <td>3.89</td>\n",
       "      <td>3.84</td>\n",
       "      <td>2.31</td>\n",
       "    </tr>\n",
       "    <tr>\n",
       "      <th>2</th>\n",
       "      <td>3</td>\n",
       "      <td>0.23</td>\n",
       "      <td>Good</td>\n",
       "      <td>E</td>\n",
       "      <td>VS1</td>\n",
       "      <td>56.9</td>\n",
       "      <td>65.0</td>\n",
       "      <td>327</td>\n",
       "      <td>4.05</td>\n",
       "      <td>4.07</td>\n",
       "      <td>2.31</td>\n",
       "    </tr>\n",
       "    <tr>\n",
       "      <th>3</th>\n",
       "      <td>4</td>\n",
       "      <td>0.29</td>\n",
       "      <td>Premium</td>\n",
       "      <td>I</td>\n",
       "      <td>VS2</td>\n",
       "      <td>62.4</td>\n",
       "      <td>58.0</td>\n",
       "      <td>334</td>\n",
       "      <td>4.20</td>\n",
       "      <td>4.23</td>\n",
       "      <td>2.63</td>\n",
       "    </tr>\n",
       "    <tr>\n",
       "      <th>4</th>\n",
       "      <td>5</td>\n",
       "      <td>0.31</td>\n",
       "      <td>Good</td>\n",
       "      <td>J</td>\n",
       "      <td>SI2</td>\n",
       "      <td>63.3</td>\n",
       "      <td>58.0</td>\n",
       "      <td>335</td>\n",
       "      <td>4.34</td>\n",
       "      <td>4.35</td>\n",
       "      <td>2.75</td>\n",
       "    </tr>\n",
       "  </tbody>\n",
       "</table>\n",
       "</div>"
      ],
      "text/plain": [
       "   Unnamed: 0  carat      cut color clarity  depth  table  price     x     y  \\\n",
       "0           1   0.23    Ideal     E     SI2   61.5   55.0    326  3.95  3.98   \n",
       "1           2   0.21  Premium     E     SI1   59.8   61.0    326  3.89  3.84   \n",
       "2           3   0.23     Good     E     VS1   56.9   65.0    327  4.05  4.07   \n",
       "3           4   0.29  Premium     I     VS2   62.4   58.0    334  4.20  4.23   \n",
       "4           5   0.31     Good     J     SI2   63.3   58.0    335  4.34  4.35   \n",
       "\n",
       "      z  \n",
       "0  2.43  \n",
       "1  2.31  \n",
       "2  2.31  \n",
       "3  2.63  \n",
       "4  2.75  "
      ]
     },
     "execution_count": 2,
     "metadata": {},
     "output_type": "execute_result"
    }
   ],
   "source": [
    "diamonds_data.head()"
   ]
  },
  {
   "cell_type": "markdown",
   "metadata": {},
   "source": [
    "The dataset contains qualitative and quantitative features. It also looks like it is sorted in ascending order based on price. Therefore, the dataset should be shuffled when splitting into train/test sets."
   ]
  },
  {
   "cell_type": "code",
   "execution_count": 3,
   "metadata": {},
   "outputs": [
    {
     "name": "stdout",
     "output_type": "stream",
     "text": [
      "<class 'pandas.core.frame.DataFrame'>\n",
      "RangeIndex: 53940 entries, 0 to 53939\n",
      "Data columns (total 11 columns):\n",
      " #   Column      Non-Null Count  Dtype  \n",
      "---  ------      --------------  -----  \n",
      " 0   Unnamed: 0  53940 non-null  int64  \n",
      " 1   carat       53940 non-null  float64\n",
      " 2   cut         53940 non-null  object \n",
      " 3   color       53940 non-null  object \n",
      " 4   clarity     53940 non-null  object \n",
      " 5   depth       53940 non-null  float64\n",
      " 6   table       53940 non-null  float64\n",
      " 7   price       53940 non-null  int64  \n",
      " 8   x           53940 non-null  float64\n",
      " 9   y           53940 non-null  float64\n",
      " 10  z           53940 non-null  float64\n",
      "dtypes: float64(6), int64(2), object(3)\n",
      "memory usage: 4.5+ MB\n"
     ]
    }
   ],
   "source": [
    "diamonds_data.info()"
   ]
  },
  {
   "cell_type": "markdown",
   "metadata": {},
   "source": [
    "The important observation here is that every feature contains 53,940 entries and therefore, there are no missing data points in the dataset. Other observations include the datatypes that comprise the dataset (ex. float64). Notably, \"object\" can represent any Python object but because the dataset was loaded using pandas' read_csv method, \"object\" must be text. We confirm this by referring to the cell block above (ex. feature \"cut\" values include \"Ideal\", Premium\", etc.).\n",
    "\n",
    "Let's drop the \"Unnamed\" column as it only provides the index to the dataset."
   ]
  },
  {
   "cell_type": "code",
   "execution_count": 4,
   "metadata": {},
   "outputs": [],
   "source": [
    "diamonds_data = diamonds_data.drop(\"Unnamed: 0\", axis=1)"
   ]
  },
  {
   "cell_type": "markdown",
   "metadata": {},
   "source": [
    "Let's next compute basic statistics of the dataset."
   ]
  },
  {
   "cell_type": "code",
   "execution_count": 5,
   "metadata": {},
   "outputs": [
    {
     "data": {
      "text/html": [
       "<div>\n",
       "<style scoped>\n",
       "    .dataframe tbody tr th:only-of-type {\n",
       "        vertical-align: middle;\n",
       "    }\n",
       "\n",
       "    .dataframe tbody tr th {\n",
       "        vertical-align: top;\n",
       "    }\n",
       "\n",
       "    .dataframe thead th {\n",
       "        text-align: right;\n",
       "    }\n",
       "</style>\n",
       "<table border=\"1\" class=\"dataframe\">\n",
       "  <thead>\n",
       "    <tr style=\"text-align: right;\">\n",
       "      <th></th>\n",
       "      <th>carat</th>\n",
       "      <th>depth</th>\n",
       "      <th>table</th>\n",
       "      <th>price</th>\n",
       "      <th>x</th>\n",
       "      <th>y</th>\n",
       "      <th>z</th>\n",
       "    </tr>\n",
       "  </thead>\n",
       "  <tbody>\n",
       "    <tr>\n",
       "      <th>count</th>\n",
       "      <td>53940.000000</td>\n",
       "      <td>53940.000000</td>\n",
       "      <td>53940.000000</td>\n",
       "      <td>53940.000000</td>\n",
       "      <td>53940.000000</td>\n",
       "      <td>53940.000000</td>\n",
       "      <td>53940.000000</td>\n",
       "    </tr>\n",
       "    <tr>\n",
       "      <th>mean</th>\n",
       "      <td>0.797940</td>\n",
       "      <td>61.749405</td>\n",
       "      <td>57.457184</td>\n",
       "      <td>3932.799722</td>\n",
       "      <td>5.731157</td>\n",
       "      <td>5.734526</td>\n",
       "      <td>3.538734</td>\n",
       "    </tr>\n",
       "    <tr>\n",
       "      <th>std</th>\n",
       "      <td>0.474011</td>\n",
       "      <td>1.432621</td>\n",
       "      <td>2.234491</td>\n",
       "      <td>3989.439738</td>\n",
       "      <td>1.121761</td>\n",
       "      <td>1.142135</td>\n",
       "      <td>0.705699</td>\n",
       "    </tr>\n",
       "    <tr>\n",
       "      <th>min</th>\n",
       "      <td>0.200000</td>\n",
       "      <td>43.000000</td>\n",
       "      <td>43.000000</td>\n",
       "      <td>326.000000</td>\n",
       "      <td>0.000000</td>\n",
       "      <td>0.000000</td>\n",
       "      <td>0.000000</td>\n",
       "    </tr>\n",
       "    <tr>\n",
       "      <th>25%</th>\n",
       "      <td>0.400000</td>\n",
       "      <td>61.000000</td>\n",
       "      <td>56.000000</td>\n",
       "      <td>950.000000</td>\n",
       "      <td>4.710000</td>\n",
       "      <td>4.720000</td>\n",
       "      <td>2.910000</td>\n",
       "    </tr>\n",
       "    <tr>\n",
       "      <th>50%</th>\n",
       "      <td>0.700000</td>\n",
       "      <td>61.800000</td>\n",
       "      <td>57.000000</td>\n",
       "      <td>2401.000000</td>\n",
       "      <td>5.700000</td>\n",
       "      <td>5.710000</td>\n",
       "      <td>3.530000</td>\n",
       "    </tr>\n",
       "    <tr>\n",
       "      <th>75%</th>\n",
       "      <td>1.040000</td>\n",
       "      <td>62.500000</td>\n",
       "      <td>59.000000</td>\n",
       "      <td>5324.250000</td>\n",
       "      <td>6.540000</td>\n",
       "      <td>6.540000</td>\n",
       "      <td>4.040000</td>\n",
       "    </tr>\n",
       "    <tr>\n",
       "      <th>max</th>\n",
       "      <td>5.010000</td>\n",
       "      <td>79.000000</td>\n",
       "      <td>95.000000</td>\n",
       "      <td>18823.000000</td>\n",
       "      <td>10.740000</td>\n",
       "      <td>58.900000</td>\n",
       "      <td>31.800000</td>\n",
       "    </tr>\n",
       "  </tbody>\n",
       "</table>\n",
       "</div>"
      ],
      "text/plain": [
       "              carat         depth         table         price             x  \\\n",
       "count  53940.000000  53940.000000  53940.000000  53940.000000  53940.000000   \n",
       "mean       0.797940     61.749405     57.457184   3932.799722      5.731157   \n",
       "std        0.474011      1.432621      2.234491   3989.439738      1.121761   \n",
       "min        0.200000     43.000000     43.000000    326.000000      0.000000   \n",
       "25%        0.400000     61.000000     56.000000    950.000000      4.710000   \n",
       "50%        0.700000     61.800000     57.000000   2401.000000      5.700000   \n",
       "75%        1.040000     62.500000     59.000000   5324.250000      6.540000   \n",
       "max        5.010000     79.000000     95.000000  18823.000000     10.740000   \n",
       "\n",
       "                  y             z  \n",
       "count  53940.000000  53940.000000  \n",
       "mean       5.734526      3.538734  \n",
       "std        1.142135      0.705699  \n",
       "min        0.000000      0.000000  \n",
       "25%        4.720000      2.910000  \n",
       "50%        5.710000      3.530000  \n",
       "75%        6.540000      4.040000  \n",
       "max       58.900000     31.800000  "
      ]
     },
     "execution_count": 5,
     "metadata": {},
     "output_type": "execute_result"
    }
   ],
   "source": [
    "diamonds_data.describe()"
   ]
  },
  {
   "cell_type": "markdown",
   "metadata": {},
   "source": [
    "Let's next observe how each feature affects the price of diamonds."
   ]
  },
  {
   "cell_type": "code",
   "execution_count": 6,
   "metadata": {},
   "outputs": [
    {
     "data": {
      "text/plain": [
       "price    1.000000\n",
       "carat    0.921591\n",
       "x        0.884435\n",
       "y        0.865421\n",
       "z        0.861249\n",
       "table    0.127134\n",
       "depth   -0.010647\n",
       "Name: price, dtype: float64"
      ]
     },
     "execution_count": 6,
     "metadata": {},
     "output_type": "execute_result"
    }
   ],
   "source": [
    "correlations = diamonds_data.corr()\n",
    "correlations[\"price\"].sort_values(ascending=False)"
   ]
  },
  {
   "cell_type": "markdown",
   "metadata": {},
   "source": [
    "It looks like most features do correlate with the price of diamonds. The notable exception is \"depth\" which has a negligble correlation (~1%). Therefore, we will exclude \"depth\" in the input features for the regression model.\n",
    "\n",
    "Let's remove feature, \"depth\"."
   ]
  },
  {
   "cell_type": "code",
   "execution_count": 7,
   "metadata": {},
   "outputs": [],
   "source": [
    "# remove the feature, \"depth\"\n",
    "diamonds_data = diamonds_data.drop(\"depth\", axis=1)"
   ]
  },
  {
   "cell_type": "markdown",
   "metadata": {},
   "source": [
    "Let's next plot histograms to observe the input features distributions."
   ]
  },
  {
   "cell_type": "code",
   "execution_count": 8,
   "metadata": {},
   "outputs": [
    {
     "data": {
      "image/png": "[encoded data removed]",
      "text/plain": [
       "<Figure size 720x576 with 1 Axes>"
      ]
     },
     "metadata": {
      "needs_background": "light"
     },
     "output_type": "display_data"
    },
    {
     "data": {
      "image/png": "[encoded data removed]",
      "text/plain": [
       "<Figure size 720x576 with 1 Axes>"
      ]
     },
     "metadata": {
      "needs_background": "light"
     },
     "output_type": "display_data"
    },
    {
     "data": {
      "image/png": "[encoded data removed]",
      "text/plain": [
       "<Figure size 720x576 with 1 Axes>"
      ]
     },
     "metadata": {
      "needs_background": "light"
     },
     "output_type": "display_data"
    },
    {
     "data": {
      "image/png": "[encoded data removed]",
      "text/plain": [
       "<Figure size 720x576 with 1 Axes>"
      ]
     },
     "metadata": {
      "needs_background": "light"
     },
     "output_type": "display_data"
    },
    {
     "data": {
      "image/png": "[encoded data removed]",
      "text/plain": [
       "<Figure size 720x576 with 1 Axes>"
      ]
     },
     "metadata": {
      "needs_background": "light"
     },
     "output_type": "display_data"
    },
    {
     "data": {
      "image/png": "[encoded data removed]",
      "text/plain": [
       "<Figure size 720x576 with 1 Axes>"
      ]
     },
     "metadata": {
      "needs_background": "light"
     },
     "output_type": "display_data"
    },
    {
     "data": {
      "image/png": "[encoded data removed]",
      "text/plain": [
       "<Figure size 720x576 with 1 Axes>"
      ]
     },
     "metadata": {
      "needs_background": "light"
     },
     "output_type": "display_data"
    },
    {
     "data": {
      "image/png": "[encoded data removed]",
      "text/plain": [
       "<Figure size 720x576 with 1 Axes>"
      ]
     },
     "metadata": {
      "needs_background": "light"
     },
     "output_type": "display_data"
    },
    {
     "data": {
      "image/png": "[encoded data removed]",
      "text/plain": [
       "<Figure size 720x576 with 1 Axes>"
      ]
     },
     "metadata": {
      "needs_background": "light"
     },
     "output_type": "display_data"
    },
    {
     "data": {
      "text/plain": [
       "<Figure size 720x576 with 0 Axes>"
      ]
     },
     "metadata": {},
     "output_type": "display_data"
    }
   ],
   "source": [
    "feature_names = diamonds_data.columns.values\n",
    "\n",
    "plt.rcParams['figure.figsize'] = [10, 8]\n",
    "\n",
    "for name in feature_names:\n",
    "    diamonds_data[name].hist(bins=10)\n",
    "    plt.title(f\"Diamonds {name} Histogram\")\n",
    "    plt.xlabel(name)\n",
    "    plt.ylabel(\"Total Count\")\n",
    "    plt.figure()"
   ]
  },
  {
   "cell_type": "markdown",
   "metadata": {},
   "source": [
    "An important obsevation is that the distribution of some quantitative features (ex. \"carat\") and the target feature (\"price\") are heavily \"right-skewed\". Let's take a closer look at the skewed \"price\" distribution by creating custom bins."
   ]
  },
  {
   "cell_type": "code",
   "execution_count": 9,
   "metadata": {},
   "outputs": [
    {
     "name": "stdout",
     "output_type": "stream",
     "text": [
      "Categorized Price Strata Value Counts:\n",
      "1    27542\n",
      "2    11684\n",
      "3     6332\n",
      "4     3160\n",
      "5     2108\n",
      "6     1459\n",
      "7     1162\n",
      "8      493\n",
      "Name: price_cat, dtype: int64\n"
     ]
    },
    {
     "data": {
      "text/plain": [
       "Text(0, 0.5, 'Total Count')"
      ]
     },
     "execution_count": 9,
     "metadata": {},
     "output_type": "execute_result"
    },
    {
     "data": {
      "image/png": "[encoded data removed]",
      "text/plain": [
       "<Figure size 720x576 with 1 Axes>"
      ]
     },
     "metadata": {
      "needs_background": "light"
     },
     "output_type": "display_data"
    }
   ],
   "source": [
    "diamonds_data[\"price_cat\"] = pd.cut(diamonds_data[\"price\"],\n",
    "                                    bins=[0., 2500, 5000, 7500, 10000, 12500, 15000, 17500, np.inf],\n",
    "                                    labels=[1, 2, 3, 4, 5, 6, 7, 8])\n",
    "\n",
    "print(f\"Categorized Price Strata Value Counts:\\n{diamonds_data.price_cat.value_counts()}\")\n",
    "\n",
    "diamonds_data[\"price_cat\"].hist(bins=8)\n",
    "plt.title(\"Categorized Price Strata\", fontsize=16)\n",
    "plt.xlabel(\"Stratum\", fontsize=16)\n",
    "plt.ylabel(\"Total Count\", fontsize=16)"
   ]
  },
  {
   "cell_type": "markdown",
   "metadata": {},
   "source": [
    "The heavy \"right-skew\" is evident from the value counts printed and the histogram. When splitting the dataset, care should be given to incorporating the data points from the scarce strata (ex. bin 8 where price > 17,500) to mitigate sampling bias. \n",
    "\n",
    "Let's split the dataset into 60/20/20 train/validation/test sets using stratified splitting based on \"price_cat\"."
   ]
  },
  {
   "cell_type": "code",
   "execution_count": 10,
   "metadata": {},
   "outputs": [
    {
     "name": "stdout",
     "output_type": "stream",
     "text": [
      "Training set proportion: 0.6\n",
      "Validation set proportion: 0.2\n",
      "Test set proportion: 0.2\n"
     ]
    },
    {
     "name": "stderr",
     "output_type": "stream",
     "text": [
      "/Applications/anaconda3/lib/python3.8/site-packages/pandas/core/frame.py:4163: SettingWithCopyWarning: \n",
      "A value is trying to be set on a copy of a slice from a DataFrame\n",
      "\n",
      "See the caveats in the documentation: https://pandas.pydata.org/pandas-docs/stable/user_guide/indexing.html#returning-a-view-versus-a-copy\n",
      "  return super().drop(\n"
     ]
    }
   ],
   "source": [
    "from sklearn.model_selection import train_test_split\n",
    "\n",
    "# extract the input features to X\n",
    "X = diamonds_data.drop(\"price\", axis=1)\n",
    "# extract the target feature to y\n",
    "y = diamonds_data[\"price\"]\n",
    "\n",
    "# perform stratified splitting based on the \"price_cat\" strata\n",
    "# random_state=42 for reproducibiility\n",
    "X_train, X_test, y_train, y_test = train_test_split(X, y, test_size=0.2, shuffle=True,\n",
    "                                                    stratify=diamonds_data[\"price_cat\"], random_state=42)\n",
    "\n",
    "\n",
    "X_train, X_val, y_train, y_val = train_test_split(X_train, y_train, test_size=0.25, shuffle=True,\n",
    "                                                  stratify=X_train[\"price_cat\"], random_state=42)\n",
    "\n",
    "# drop the feature, \"price_cat\" from the feature DataFrame\n",
    "for df in (X_train, X_val, X_test):\n",
    "    df.drop(\"price_cat\", axis=1, inplace=True)\n",
    "\n",
    "# verify the splitting ratios are as expected\n",
    "print(f\"Training set proportion: {len(X_train)/53940}\")\n",
    "print(f\"Validation set proportion: {len(X_val)/53940}\")\n",
    "print(f\"Test set proportion: {len(X_test)/53940}\")"
   ]
  },
  {
   "cell_type": "markdown",
   "metadata": {},
   "source": [
    "Following the generation of the train/validation/test sets, we need to prepare the train set for model training. The quantitative features should be standardized and the categorical features need to be encoded. An important attribute to keep in mind is that all the categorical features are ordinal variables, implying a ranked relationship. It follows from the dataset description:\n",
    "\n",
    "* \"cut\"\n",
    "\n",
    "\"Fair\" (Worst) ----- \"Good\" ----- \"Very Good\" ----- \"Premium\" ----- \"Ideal\" (Best)\n",
    "\n",
    "* \"color\"\n",
    "\n",
    "\"J\" (Worst) ----- \"I\" ----- \"H\" ----- \"G\" ----- \"F\" ----- \"E\" ----- \"D\" (Best)\n",
    "\n",
    "* \"clarity\"\n",
    "\n",
    "\"I1\" (Worst) ----- \"SI2\" ----- \"SI1\" ----- \"VS2\" ----- \"VS1\" ----- \"VVS2\" ----- \"VVS1\" ----- \"IF\" (Best)\n",
    "\n",
    "Encoding should capture these ranked relationships as defined."
   ]
  },
  {
   "cell_type": "code",
   "execution_count": 11,
   "metadata": {},
   "outputs": [],
   "source": [
    "from sklearn.compose import ColumnTransformer\n",
    "from sklearn.preprocessing import StandardScaler\n",
    "from sklearn.preprocessing import OrdinalEncoder\n",
    "\n",
    "# define 3 OrdinalEncoders to control the value mappings according to above \n",
    "# (otherwise, OrdinalEncoder encodes via alphabetical order which would not capture the ranked relationship properly)\n",
    "cut_ord_enc = OrdinalEncoder(categories=[[\"Fair\", \"Good\", \"Very Good\", \"Premium\", \"Ideal\"]])\n",
    "color_ord_enc = OrdinalEncoder(categories=[[\"J\", \"I\", \"H\", \"G\", \"F\", \"E\", \"D\"]])\n",
    "clarity_ord_enc = OrdinalEncoder(categories=[[\"I1\", \"SI2\", \"SI1\", \"VS2\", \"VS1\", \"VVS2\", \"VVS1\", \"IF\"]])\n",
    "\n",
    "# extract the numerical input feature names\n",
    "num_feature_names = list(X_train.drop([\"cut\", \"color\", \"clarity\"], axis=1))\n",
    "# extract each categorical input feature name separately to use the different OrdinalEncoders defined above\n",
    "cut_feature_name = [\"cut\"]\n",
    "color_feature_name = [\"color\"]\n",
    "clarity_feature_name = [\"clarity\"]\n",
    "\n",
    "processing_pipeline = ColumnTransformer([\n",
    "                      (\"num\", StandardScaler(), num_feature_names),\n",
    "                      (\"cut\", cut_ord_enc, cut_feature_name),\n",
    "                      (\"color\", color_ord_enc, color_feature_name),\n",
    "                      (\"clarity\", clarity_ord_enc, clarity_feature_name)])\n",
    "\n",
    "X_train_prepped = processing_pipeline.fit_transform(X_train)"
   ]
  },
  {
   "cell_type": "markdown",
   "metadata": {},
   "source": [
    "It was important during feature processing that standardization does not compute the mean and standard deviation of the entire dataset so as to avoid data leakage. This was avoided as we previously split the data into train/val/test sets where the validation and test sets were untouched. Consequently, standardization was performed using the mean and standard deviation computed from only the train set. When we evaluate our regression models on the validation and test sets, they must be standardized according to the train set mean and standard deviation. \n",
    "\n",
    "Let's standardize the validation and test sets now to prospectively prepare them for model evaluation."
   ]
  },
  {
   "cell_type": "code",
   "execution_count": 12,
   "metadata": {},
   "outputs": [],
   "source": [
    "# use transform and not fit_transform to maintain the mean and standard deviation of the train set\n",
    "X_val_prepped = processing_pipeline.transform(X_val)\n",
    "X_test_prepped = processing_pipeline.transform(X_test)"
   ]
  },
  {
   "cell_type": "markdown",
   "metadata": {},
   "source": [
    "The validation and test sets are now standardized and encoded.\n",
    "\n",
    "Following numerical and categorical features standardization and encoding, respectively on the train set, we are now ready for model training. Let's train Linear Regression (LR), Linear Support Vector Machine (SVM) Regressor, Poly SVM Regressor, and Random Forest Regressor models."
   ]
  },
  {
   "cell_type": "code",
   "execution_count": 13,
   "metadata": {},
   "outputs": [
    {
     "data": {
      "text/plain": [
       "RandomForestRegressor(random_state=42)"
      ]
     },
     "execution_count": 13,
     "metadata": {},
     "output_type": "execute_result"
    }
   ],
   "source": [
    "from sklearn.linear_model import LinearRegression\n",
    "from sklearn.svm import LinearSVR\n",
    "from sklearn.svm import SVR\n",
    "from sklearn.ensemble import RandomForestRegressor\n",
    "\n",
    "# random_state 42 for reproducibility\n",
    "lin_reg = LinearRegression()\n",
    "lin_svr = LinearSVR(random_state=42)\n",
    "poly_svr = SVR(kernel=\"poly\")\n",
    "rf_reg = RandomForestRegressor(random_state=42)\n",
    "\n",
    "# fit all the models on the train set\n",
    "lin_reg.fit(X_train_prepped, y_train)\n",
    "lin_svr.fit(X_train_prepped, y_train)\n",
    "poly_svr.fit(X_train_prepped, y_train)\n",
    "rf_reg.fit(X_train_prepped, y_train)"
   ]
  },
  {
   "cell_type": "markdown",
   "metadata": {},
   "source": [
    "Next, let's evaluate the performances of each model. Firstly, calculate the root-mean-square-error (RMSE) on the train set to gain an understanding of the train accuracy. Secondly, calculate the RMSE on the validation set to gain an understanding of the generalization error."
   ]
  },
  {
   "cell_type": "code",
   "execution_count": 14,
   "metadata": {},
   "outputs": [
    {
     "name": "stdout",
     "output_type": "stream",
     "text": [
      "                   Model   Train RMSE    Val. RMSE    Val. Error\n",
      "       Linear Regression  1226.064210  1217.416510        -0.71%\n",
      "              Linear SVR  1474.828535  1501.940046         1.84%\n",
      "                Poly SVR  1840.865066  2319.300043        25.99%\n",
      " Random Forest Regressor   211.747523   536.207311       153.23%\n"
     ]
    }
   ],
   "source": [
    "from sklearn.metrics import mean_squared_error\n",
    "\n",
    "model_names = [\"Linear Regression\", \"Linear SVR\", \"Poly SVR\", \"Random Forest Regressor\"]\n",
    "train_rmse_list = []\n",
    "val_rmse_list = []\n",
    "val_gen_error_list = []\n",
    "\n",
    "for model in (lin_reg, lin_svr, poly_svr, rf_reg):\n",
    "    # extract the predictions made by each model on the train set\n",
    "    y_train_pred = model.predict(X_train_prepped)\n",
    "    # extract the predictions made by each model on the validation set\n",
    "    y_val_pred = model.predict(X_val_prepped)\n",
    "    # calculate the rmse for each model on the train set\n",
    "    train_rmse = np.sqrt(mean_squared_error(y_train, y_train_pred))\n",
    "    # calculate the rmse for each model on the validation set\n",
    "    val_rmse = np.sqrt(mean_squared_error(y_val, y_val_pred))\n",
    "    # calculate the generalization error on the validation set\n",
    "    gen_error = f\"{round(((val_rmse-train_rmse)/train_rmse*100),2)}%\"\n",
    "    \n",
    "    # populate the correspoding lists to save the calculated values\n",
    "    train_rmse_list.append(train_rmse)\n",
    "    val_rmse_list.append(val_rmse)\n",
    "    val_gen_error_list.append(gen_error)\n",
    "    \n",
    "# construct a DataFrame to display the rmse values\n",
    "rmse_df = pd.DataFrame({\"Model\": model_names,\n",
    "                        \"Train RMSE\": train_rmse_list,\n",
    "                        \"Val. RMSE\": val_rmse_list,\n",
    "                        \"   Val. Error\": val_gen_error_list})\n",
    "\n",
    "print(rmse_df.to_string(index=False))"
   ]
  },
  {
   "cell_type": "markdown",
   "metadata": {},
   "source": [
    "Key insights:\n",
    "\n",
    "1) Linear Regression and Linear SVR models generalize well on the validation set\n",
    "\n",
    "2) Poly SVR is overfitting given the relatively poor generalization error on the validation set\n",
    "\n",
    "3) Random Forest Regressor seems to perform the best on the train set but is probably heavily overfitting as the model was given total freedom in hyperparameter values --> reinforced by the poor generalization error\n",
    "\n",
    "The next step will be to tune the hyperparameters of the models to achieve 3 objectives:\n",
    "1) Reduce overfitting --> particularly relevant to the Poly SVR and Random Forest Regressor\n",
    "\n",
    "2) Reduce the RMSE\n",
    "\n",
    "3) Determine which model performs best on the validation set\n",
    "\n",
    "Note: Standard Linear Regression using Least Squares does not have any hyperparameters. If the model were overfitting, regularization techniques such as Lasso or Ridge Regression could be used. As this is not the case, the Linear Regression model will be kept as is."
   ]
  },
  {
   "cell_type": "code",
   "execution_count": 15,
   "metadata": {},
   "outputs": [
    {
     "name": "stdout",
     "output_type": "stream",
     "text": [
      "Linear SVR Best Hyperparameters Found: {'C': 15}\n",
      "Poly SVR Best Hyperparameters Found: {'C': 1, 'coef0': 1.0, 'degree': 3}\n",
      "Random Forest Regressor Best Hyperparameters Found: {'max_features': 5, 'n_estimators': 500}\n"
     ]
    }
   ],
   "source": [
    "from sklearn.model_selection import GridSearchCV\n",
    "\n",
    "# Linear SVR hyperparameters to try\n",
    "# try greater \"C\" values since the current Linear SVR has low generalization error on the validation set\n",
    "lin_svr_param_grid = [{\"C\": [5, 10, 15, 20]}]\n",
    "\n",
    "# Poly SVR hyperparameter combinations to try\n",
    "# try smaller \"C\" values since the current Poly SVR has a high generalization error on the validation set\n",
    "# avoid polynomial degrees > 3 as the Poly SVR is already overfitting (current model is using degree 3)\n",
    "poly_svr_param_grid = [{\"C\": [0.25, 0.50, 0.75, 1], \n",
    "                        \"degree\": [2, 3],\n",
    "                        \"coef0\": [0.0, 0.25, 0.50, 0.75, 1.0]}]\n",
    "\n",
    "# Random Forest hyperparameter combinations to try (there are many other hyperparameters that are not tried here)\n",
    "rf_reg_param_grid = [{\"n_estimators\": [100, 200, 300, 400, 500],\n",
    "                      \"max_features\": [2, 3, 4, 5, 6]}]\n",
    "\n",
    "lin_svr_gscv = GridSearchCV(lin_svr, param_grid=lin_svr_param_grid, cv=5)\n",
    "poly_svr_gscv = GridSearchCV(poly_svr, param_grid=poly_svr_param_grid, cv=5)\n",
    "rf_reg_gscv = GridSearchCV(rf_reg, param_grid=rf_reg_param_grid, cv=5)\n",
    "\n",
    "# re-train all 3 models with the best hyperparameters found\n",
    "lin_svr_gscv.fit(X_train_prepped, y_train)\n",
    "poly_svr_gscv.fit(X_train_prepped, y_train)\n",
    "rf_reg_gscv.fit(X_train_prepped, y_train)\n",
    "\n",
    "# display the best hyperparameters from the combinations tried\n",
    "print(f\"Linear SVR Best Hyperparameters Found: {lin_svr_gscv.best_params_}\")\n",
    "print(f\"Poly SVR Best Hyperparameters Found: {poly_svr_gscv.best_params_}\")\n",
    "print(f\"Random Forest Regressor Best Hyperparameters Found: {rf_reg_gscv.best_params_}\")"
   ]
  },
  {
   "cell_type": "code",
   "execution_count": 16,
   "metadata": {},
   "outputs": [
    {
     "name": "stdout",
     "output_type": "stream",
     "text": [
      "                   Model  Prev. Train RMSE   Train RMSE  Prev. Val. RMSE    Val. RMSE Prev. Val. Error    Val. Error\n",
      "       Linear Regression       1226.064210  1226.064210      1217.416510  1217.416510           -0.71%        -0.71%\n",
      "              Linear SVR       1474.828535  1355.509103      1501.940046  1397.886077            1.84%         3.13%\n",
      "                Poly SVR       1840.865066   979.123828      2319.300043  1725.270403           25.99%        76.21%\n",
      " Random Forest Regressor        211.747523   203.630213       536.207311   532.716693          153.23%       161.61%\n"
     ]
    }
   ],
   "source": [
    "model_names = [\"Linear Regression\", \"Linear SVR\", \"Poly SVR\", \"Random Forest Regressor\"]\n",
    "gscv_train_rmse_list = []\n",
    "gscv_val_rmse_list = []\n",
    "gscv_val_gen_error_list = []\n",
    "\n",
    "for model in (lin_reg, lin_svr_gscv, poly_svr_gscv, rf_reg_gscv):\n",
    "    # extract the predictions made by each model on the train set\n",
    "    y_train_pred = model.predict(X_train_prepped)\n",
    "    # extract the predictions made by each model on the validation set\n",
    "    y_val_pred = model.predict(X_val_prepped)\n",
    "    # calculate the rmse for each model on the train set\n",
    "    train_rmse = np.sqrt(mean_squared_error(y_train, y_train_pred))\n",
    "    # calculate the rmse for each model on the validation set\n",
    "    val_rmse = np.sqrt(mean_squared_error(y_val, y_val_pred))\n",
    "    # calculate the generalization error on the validation set\n",
    "    gen_error = f\"{round(((val_rmse-train_rmse)/train_rmse*100),2)}%\"\n",
    "    \n",
    "    # populate the correspoding lists to save the calculated values\n",
    "    gscv_train_rmse_list.append(train_rmse)\n",
    "    gscv_val_rmse_list.append(val_rmse)\n",
    "    gscv_val_gen_error_list.append(gen_error)\n",
    "    \n",
    "# construct a DataFrame to display the rmse values\n",
    "rmse_df = pd.DataFrame({\"Model\": model_names,\n",
    "                        \"Prev. Train RMSE\": train_rmse_list,\n",
    "                        \"Train RMSE\": gscv_train_rmse_list,\n",
    "                        \"Prev. Val. RMSE\": val_rmse_list,\n",
    "                        \"Val. RMSE\": gscv_val_rmse_list,\n",
    "                        \"Prev. Val. Error\": val_gen_error_list,\n",
    "                        \"   Val. Error\": gscv_val_gen_error_list})\n",
    "\n",
    "print(rmse_df.to_string(index=False))"
   ]
  },
  {
   "cell_type": "markdown",
   "metadata": {},
   "source": [
    "The GridSearchCV results are summarized in the output of the above cell block. Firstly, the Linear Regression model was not modified at all as there are no hyperparameters. For the other models, the validation errors seem to have increased! While this is true, it is important to also look at the absolute RMSE differences post-GridSearchCV. Taking a deeper look at the Linear SVR, Poly SVR, and Random Forest Regressor models, both the train and validation RMSE was reduced which is a good sign that GridSearchCV has improved the models. That being said, the validation errors still suggest overfitting, especially in the case of the Poly SVR where the magnitude of the difference between the validation RMSE - train RMSE is quite large. Given these observations, it would be beneficial to try a wider range of hyperparameter values in during GridSearchCV. In particular, there are many hyperparameters that can be tuned for Random Forests. This is not done in this notebook as the relatively large dataset requires extensive training time. \n",
    "\n",
    "\n",
    "Finally, given the model performances, it is clear that the Random Forest Regressor performs the best by far. Suppose we are happy with the hyperparameter tuning and wish to evaluate the Random Forest Regressor on the test set. The first thing we need to do is compile the train and validation sets together and retrain the model. A simple way to achieve this is to regenerate the original train/test sets. The below cell block accomplishes this and reuses much of the previous code."
   ]
  },
  {
   "cell_type": "code",
   "execution_count": 17,
   "metadata": {},
   "outputs": [],
   "source": [
    "# perform stratified splitting based on the \"price_cat\" strata\n",
    "# random_state=42 for reproducibiility\n",
    "X_train, X_test, y_train, y_test = train_test_split(X, y, test_size=0.2, shuffle=True,\n",
    "                                                    stratify=diamonds_data[\"price_cat\"], random_state=42)\n",
    "\n",
    "# Following the above step, X_train represents the train + validation set\n",
    "# Next, apply feature processing as defined by the previously contructed pipeline\n",
    "X_train_prepped = processing_pipeline.fit_transform(X_train)"
   ]
  },
  {
   "cell_type": "markdown",
   "metadata": {},
   "source": [
    "An important distinction between the above pipeline transformation we just performed is that the standardization uses the data from both the train and validation sets together. Previously, we only performed standardization on the train set and carried forward the train set mean and standard deviation to the validation set so as to avoid data leakage. We did this so that evaluating the models using the validation set, like above, provides a more reasonable and accurate performance measure. Following Random Forest Regressor hyperparameter tuning, we retrain the model and standardize based on the compiled train and validation sets data."
   ]
  },
  {
   "cell_type": "code",
   "execution_count": 18,
   "metadata": {},
   "outputs": [
    {
     "data": {
      "text/plain": [
       "RandomForestRegressor(max_features=5, n_estimators=500, random_state=42)"
      ]
     },
     "execution_count": 18,
     "metadata": {},
     "output_type": "execute_result"
    }
   ],
   "source": [
    "rf_reg_final = RandomForestRegressor(n_estimators=500, max_features=5, random_state=42)\n",
    "rf_reg_final.fit(X_train_prepped, y_train)"
   ]
  },
  {
   "cell_type": "markdown",
   "metadata": {},
   "source": [
    "Before we can evaluate on the test set, we need to also standardize the test set based on the new mean and standard deviation calculated for the aggregated train + validation sets."
   ]
  },
  {
   "cell_type": "code",
   "execution_count": 19,
   "metadata": {},
   "outputs": [],
   "source": [
    "# only use transform instead of fit_transform to use the train + val set mean and standard deviation\n",
    "# this is to avoid data leakage to the test set\n",
    "X_test_prepped = processing_pipeline.transform(X_test)"
   ]
  },
  {
   "cell_type": "markdown",
   "metadata": {},
   "source": [
    "Let's now evaluate the Random Forest Regressor on the test set."
   ]
  },
  {
   "cell_type": "code",
   "execution_count": 20,
   "metadata": {},
   "outputs": [
    {
     "name": "stdout",
     "output_type": "stream",
     "text": [
      "Random Forest Regressor Post-GSCV\n",
      "Hyperparameter max_features: 5\n",
      "Hyperparameter n_estimators: 500\n",
      "Test Set RMSE: 533.5745604557677\n"
     ]
    }
   ],
   "source": [
    "# generate the predicted diamond prices on the test set\n",
    "y_test_pred = rf_reg_final.predict(X_test_prepped)\n",
    "# calculate the RMSE on the test set\n",
    "test_rmse = np.sqrt(mean_squared_error(y_test, y_test_pred))\n",
    "\n",
    "# display the final model hyperparameters and results\n",
    "print(\"Random Forest Regressor Post-GSCV\")\n",
    "print(f\"Hyperparameter max_features: {5}\")\n",
    "print(f\"Hyperparameter n_estimators: {500}\")\n",
    "print(f\"Test Set RMSE: {test_rmse}\")"
   ]
  },
  {
   "cell_type": "markdown",
   "metadata": {},
   "source": [
    "The test set RMSE is ~ 533.57 which is almost identical to the validation set RMSE (~ 532.72). The validation set used to obtain the validation RMSE was standardized using the training set mean and standard deviation. This minimized data leakage and we observe that the validation set becomes a good tool to get a sense of the generalization error of our model. This is reinforced by the almost identical RMSE obtained on the test set."
   ]
  }
 ],
 "metadata": {
  "kernelspec": {
   "display_name": "Python 3",
   "language": "python",
   "name": "python3"
  },
  "language_info": {
   "codemirror_mode": {
    "name": "ipython",
    "version": 3
   },
   "file_extension": ".py",
   "mimetype": "text/x-python",
   "name": "python",
   "nbconvert_exporter": "python",
   "pygments_lexer": "ipython3",
   "version": "3.8.5"
  }
 },
 "nbformat": 4,
 "nbformat_minor": 4
}
